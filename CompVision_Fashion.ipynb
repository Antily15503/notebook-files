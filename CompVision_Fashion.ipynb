{
 "cells": [
  {
   "cell_type": "markdown",
   "id": "1510218e-d059-498d-9ac3-710a39e0a8da",
   "metadata": {},
   "source": [
    "## Machine Learning Notebook for Compter Vision using PyTorch\n",
    "`torchvision`: - base\n",
    "`torchvision.datasets` - get datasets and data loading functions for computer vision\n",
    "`torchvision.models` - get pretrained computer vision models that you can leverage for your own problems\n",
    "`torchvision.transofmrs` - functions for manipulating your vision data (images) to be suited for ML models\n",
    "`torch.utils.data.Dataset` - base dataset class for PyTorch"
   ]
  },
  {
   "cell_type": "code",
   "execution_count": 12,
   "id": "981681d2-f9c2-41ab-9997-45fa8029cdea",
   "metadata": {},
   "outputs": [],
   "source": [
    "# Import Pytorch\n",
    "import torch\n",
    "from torch import nn\n",
    "\n",
    "# Import Torchvision\n",
    "import torchvision\n",
    "from torchvision import datasets\n",
    "from torchvision import transforms\n",
    "from torchvision.transforms import ToTensor\n",
    "\n",
    "# Import matplotlib for visualization\n",
    "import matplotlib.pyplot as plt"
   ]
  },
  {
   "cell_type": "markdown",
   "id": "a46030c2",
   "metadata": {},
   "source": [
    "## Dataset\n",
    "FashionMNIST database: a database of pictures of clothes that's done in grayscale\n",
    "Download is included by PyTorch (in datasets list)"
   ]
  },
  {
   "cell_type": "code",
   "execution_count": 2,
   "id": "8e9740fa",
   "metadata": {},
   "outputs": [
    {
     "name": "stdout",
     "output_type": "stream",
     "text": [
      "Downloading http://fashion-mnist.s3-website.eu-central-1.amazonaws.com/train-images-idx3-ubyte.gz\n",
      "Using downloaded and verified file: data\\FashionMNIST\\raw\\train-images-idx3-ubyte.gz\n",
      "Extracting data\\FashionMNIST\\raw\\train-images-idx3-ubyte.gz to data\\FashionMNIST\\raw\n",
      "\n",
      "Downloading http://fashion-mnist.s3-website.eu-central-1.amazonaws.com/train-labels-idx1-ubyte.gz\n",
      "Using downloaded and verified file: data\\FashionMNIST\\raw\\train-labels-idx1-ubyte.gz\n",
      "Extracting data\\FashionMNIST\\raw\\train-labels-idx1-ubyte.gz to data\\FashionMNIST\\raw\n",
      "\n",
      "Downloading http://fashion-mnist.s3-website.eu-central-1.amazonaws.com/t10k-images-idx3-ubyte.gz\n",
      "Downloading http://fashion-mnist.s3-website.eu-central-1.amazonaws.com/t10k-images-idx3-ubyte.gz to data\\FashionMNIST\\raw\\t10k-images-idx3-ubyte.gz\n"
     ]
    },
    {
     "name": "stderr",
     "output_type": "stream",
     "text": [
      "100.0%\n"
     ]
    },
    {
     "name": "stdout",
     "output_type": "stream",
     "text": [
      "Extracting data\\FashionMNIST\\raw\\t10k-images-idx3-ubyte.gz to data\\FashionMNIST\\raw\n",
      "\n",
      "Downloading http://fashion-mnist.s3-website.eu-central-1.amazonaws.com/t10k-labels-idx1-ubyte.gz\n",
      "Downloading http://fashion-mnist.s3-website.eu-central-1.amazonaws.com/t10k-labels-idx1-ubyte.gz to data\\FashionMNIST\\raw\\t10k-labels-idx1-ubyte.gz\n"
     ]
    },
    {
     "name": "stderr",
     "output_type": "stream",
     "text": [
      "100.0%"
     ]
    },
    {
     "name": "stdout",
     "output_type": "stream",
     "text": [
      "Extracting data\\FashionMNIST\\raw\\t10k-labels-idx1-ubyte.gz to data\\FashionMNIST\\raw\n",
      "\n"
     ]
    },
    {
     "name": "stderr",
     "output_type": "stream",
     "text": [
      "\n"
     ]
    }
   ],
   "source": [
    "train_data = datasets.FashionMNIST(\n",
    "    root=\"data\", # where does the downloaded data go to?\n",
    "    train=True, # do we want the training dataset or testing dataset \n",
    "    download=True, #do we want to download\n",
    "    transform=torchvision.transforms.ToTensor(), # how do we want to transofrm the data? ()\n",
    "    target_transform=None # do we need to transform the labels (output)?\n",
    ")\n",
    "\n",
    "test_data = datasets.FashionMNIST(\n",
    "    root=\"data\",\n",
    "    train=False, # this is the testing dataset, so no train\n",
    "    download=True,\n",
    "    transform=ToTensor(),\n",
    "    target_transform=None\n",
    ")"
   ]
  },
  {
   "cell_type": "code",
   "execution_count": 35,
   "id": "7648bd09",
   "metadata": {},
   "outputs": [
    {
     "data": {
      "text/plain": [
       "['T-shirt/top',\n",
       " 'Trouser',\n",
       " 'Pullover',\n",
       " 'Dress',\n",
       " 'Coat',\n",
       " 'Sandal',\n",
       " 'Shirt',\n",
       " 'Sneaker',\n",
       " 'Bag',\n",
       " 'Ankle boot']"
      ]
     },
     "execution_count": 35,
     "metadata": {},
     "output_type": "execute_result"
    }
   ],
   "source": [
    "class_names = train_data.classes # command to see information of the different classes of our train_data\n",
    "class_names"
   ]
  },
  {
   "cell_type": "code",
   "execution_count": null,
   "id": "e3c83bb7",
   "metadata": {},
   "outputs": [],
   "source": [
    "class_dict = train_data.class_to_idx # same command as above but returns as a dictionary (class category paired with index)\n",
    "class_dict"
   ]
  },
  {
   "cell_type": "code",
   "execution_count": 13,
   "id": "15c8d54b",
   "metadata": {},
   "outputs": [],
   "source": [
    "# Making a DataLoader\n",
    "# A DataLoader turns a dataset (in this case images) into a Python iterable (batches / mini-batches of data sections)\n",
    "from torch.utils.data import DataLoader\n",
    "\n",
    "# set up a Batch Size HYPERPARAMATER\n",
    "BATCH_SIZE = 32\n",
    "train_dataloader = DataLoader(dataset=train_data,\n",
    "                              batch_size=BATCH_SIZE,\n",
    "                              shuffle=True)\n",
    "\n",
    "test_dataloader = DataLoader(dataset=test_data,\n",
    "                             batch_size=BATCH_SIZE,\n",
    "                             shuffle=False)\n",
    "train_features_batch, train_labels_batch = next(iter(train_dataloader))"
   ]
  },
  {
   "cell_type": "code",
   "execution_count": 39,
   "id": "ef98de9e",
   "metadata": {},
   "outputs": [
    {
     "name": "stdout",
     "output_type": "stream",
     "text": [
      "Image size: torch.Size([1, 28, 28])\n",
      "Label: 4, label size: <built-in method size of Tensor object at 0x000001E34DE06EE0>\n"
     ]
    },
    {
     "data": {
      "image/png": "[encoded data removed]",
      "text/plain": [
       "<Figure size 640x480 with 1 Axes>"
      ]
     },
     "metadata": {},
     "output_type": "display_data"
    }
   ],
   "source": [
    "# SHOWING SAMPLES OF OUR MODEL'S DATA\n",
    "randomIndex = torch.randint(0, len(train_features_batch), size=[1]).item() # visualize one random sample from our batch (BATCH_SIZE)\n",
    "img, label = train_features_batch[randomIndex], train_labels_batch[randomIndex] # fetch the \"image\" and label from our batch at randomIndex\n",
    "plt.imshow(img.squeeze(), cmap=\"gray\") # displays the image (in grayscale)\n",
    "plt.title(class_names[label]) # sets title to label string (since label is a tensor)\n",
    "plt.axis(False)\n",
    "print(f\"Image size: {img.shape}\")\n",
    "print(f\"Label: {label}, label size: {label.size}\")"
   ]
  },
  {
   "cell_type": "code",
   "execution_count": null,
   "id": "7853ff99",
   "metadata": {},
   "outputs": [],
   "source": [
    "## Building a baseline computer vision model \n",
    "\n"
   ]
  }
 ],
 "metadata": {
  "kernelspec": {
   "display_name": "pytorch",
   "language": "python",
   "name": "pytorch"
  },
  "language_info": {
   "codemirror_mode": {
    "name": "ipython",
    "version": 3
   },
   "file_extension": ".py",
   "mimetype": "text/x-python",
   "name": "python",
   "nbconvert_exporter": "python",
   "pygments_lexer": "ipython3",
   "version": "3.12.4"
  }
 },
 "nbformat": 4,
 "nbformat_minor": 5
}
